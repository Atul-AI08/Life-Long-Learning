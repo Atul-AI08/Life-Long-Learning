{
  "nbformat": 4,
  "nbformat_minor": 0,
  "metadata": {
    "colab": {
      "provenance": [],
      "gpuType": "T4"
    },
    "kernelspec": {
      "name": "python3",
      "display_name": "Python 3"
    },
    "language_info": {
      "name": "python"
    },
    "accelerator": "GPU"
  },
  "cells": [
    {
      "cell_type": "code",
      "execution_count": 1,
      "metadata": {
        "id": "wkRtJCwoPc7T"
      },
      "outputs": [],
      "source": [
        "import torch\n",
        "import torchvision\n",
        "import torch.nn as nn\n",
        "import torch.optim as optim\n",
        "import torch.nn.functional as F\n",
        "import torchvision.models as models\n",
        "from torch.utils.data import DataLoader\n",
        "import torchvision.datasets as datasets\n",
        "import torchvision.transforms as transforms"
      ]
    },
    {
      "cell_type": "code",
      "source": [
        "transform = transforms.Compose([\n",
        "    transforms.ToTensor(),\n",
        "    transforms.Normalize((0.5, 0.5, 0.5), (0.5, 0.5, 0.5))\n",
        "])"
      ],
      "metadata": {
        "id": "VxuhpEcoPqnB"
      },
      "execution_count": 2,
      "outputs": []
    },
    {
      "cell_type": "code",
      "source": [
        "train_dataset = torchvision.datasets.CIFAR10(root='./data', train=True, transform=transform, download=True)\n",
        "test_dataset = torchvision.datasets.CIFAR10(root='./data', train=False, transform=transform, download=True)"
      ],
      "metadata": {
        "colab": {
          "base_uri": "https://localhost:8080/"
        },
        "id": "XFM-sFIBPpO1",
        "outputId": "257bc996-ddb8-4155-a2fa-211fad0e4a60"
      },
      "execution_count": 3,
      "outputs": [
        {
          "output_type": "stream",
          "name": "stdout",
          "text": [
            "Files already downloaded and verified\n",
            "Files already downloaded and verified\n"
          ]
        }
      ]
    },
    {
      "cell_type": "code",
      "source": [
        "batch_size = 64\n",
        "device = \"cuda:0\""
      ],
      "metadata": {
        "id": "W-joKJkaPw4K"
      },
      "execution_count": 4,
      "outputs": []
    },
    {
      "cell_type": "code",
      "source": [
        "class ResNet50(nn.Module):\n",
        "    def __init__(self, hidden_units, out_size):\n",
        "        super(ResNet50, self).__init__()\n",
        "        self.resnet50 = models.resnet50(pretrained=True)\n",
        "        self.resnet50.fc_layer = nn.Linear(2048, hidden_units)\n",
        "        self.resnet50.classifier = nn.Linear(hidden_units, out_size)\n",
        "\n",
        "    def forward(self, x):\n",
        "        features = self.resnet50.conv1(x)\n",
        "        features = self.resnet50.bn1(features)\n",
        "        features = self.resnet50.relu(features)\n",
        "        features = self.resnet50.maxpool(features)\n",
        "        features = self.resnet50.layer1(features)\n",
        "        features = self.resnet50.layer2(features)\n",
        "        features = self.resnet50.layer3(features)\n",
        "        fmaps_b4 = self.resnet50.layer4(features)\n",
        "        out = F.adaptive_avg_pool2d(fmaps_b4, (1, 1)).view(fmaps_b4.size(0), -1)\n",
        "        out = self.resnet50.fc_layer(out)\n",
        "        out = self.resnet50.classifier(out)\n",
        "        return out\n",
        ""
      ],
      "metadata": {
        "id": "VnA2_TSmToBl"
      },
      "execution_count": 75,
      "outputs": []
    },
    {
      "cell_type": "code",
      "source": [
        "model1 = ResNet50(hidden_units=128, out_size=2).to(device)"
      ],
      "metadata": {
        "colab": {
          "base_uri": "https://localhost:8080/"
        },
        "id": "ogGJnpGlQHs4",
        "outputId": "97f3c5b4-9c1b-4f32-8207-408e4cadf159"
      },
      "execution_count": 76,
      "outputs": [
        {
          "output_type": "stream",
          "name": "stderr",
          "text": [
            "/usr/local/lib/python3.10/dist-packages/torchvision/models/_utils.py:208: UserWarning: The parameter 'pretrained' is deprecated since 0.13 and may be removed in the future, please use 'weights' instead.\n",
            "  warnings.warn(\n",
            "/usr/local/lib/python3.10/dist-packages/torchvision/models/_utils.py:223: UserWarning: Arguments other than a weight enum or `None` for 'weights' are deprecated since 0.13 and may be removed in the future. The current behavior is equivalent to passing `weights=ResNet50_Weights.IMAGENET1K_V1`. You can also use `weights=ResNet50_Weights.DEFAULT` to get the most up-to-date weights.\n",
            "  warnings.warn(msg)\n"
          ]
        }
      ]
    },
    {
      "cell_type": "code",
      "source": [
        "class_indices = [0,1]\n",
        "train_dataset_1 = torch.utils.data.Subset(train_dataset, [i for i in range(len(train_dataset)) if train_dataset.targets[i] in class_indices])\n",
        "test_dataset_1 = torch.utils.data.Subset(train_dataset, [i for i in range(len(train_dataset)) if train_dataset.targets[i] in class_indices])\n",
        "train_loader_1 = torch.utils.data.DataLoader(train_dataset_1, batch_size=batch_size, shuffle=True, num_workers=2)\n",
        "test_loader_1 = torch.utils.data.DataLoader(test_dataset_1, batch_size=batch_size, shuffle=False, num_workers=2)"
      ],
      "metadata": {
        "id": "3xD8iyntQ3kg"
      },
      "execution_count": 77,
      "outputs": []
    },
    {
      "cell_type": "code",
      "source": [
        "class_indices = [2,3]\n",
        "train_dataset_2 = torch.utils.data.Subset(train_dataset, [i for i in range(len(train_dataset)) if train_dataset.targets[i] in class_indices])\n",
        "test_dataset_2 = torch.utils.data.Subset(train_dataset, [i for i in range(len(train_dataset)) if train_dataset.targets[i] in class_indices])\n",
        "train_loader_2 = torch.utils.data.DataLoader(train_dataset_2, batch_size=batch_size, shuffle=True, num_workers=2)\n",
        "test_loader_2 = torch.utils.data.DataLoader(test_dataset_2, batch_size=batch_size, shuffle=False, num_workers=2)"
      ],
      "metadata": {
        "id": "SrhkU9vIROzT"
      },
      "execution_count": 78,
      "outputs": []
    },
    {
      "cell_type": "code",
      "source": [
        "criterion = nn.CrossEntropyLoss()\n",
        "optimizer = optim.Adam(model1.parameters(), lr=0.001)\n",
        "num_epochs = 10"
      ],
      "metadata": {
        "id": "tW8A448kQbgx"
      },
      "execution_count": 79,
      "outputs": []
    },
    {
      "cell_type": "code",
      "source": [
        "for epoch in range(num_epochs):\n",
        "    model1.train()\n",
        "    running_loss = 0.0\n",
        "\n",
        "    for inputs, labels in train_loader_1:\n",
        "        inputs, labels = inputs.to(device), labels.to(device)\n",
        "\n",
        "        optimizer.zero_grad()\n",
        "\n",
        "        outputs = model1(inputs)\n",
        "        loss = criterion(outputs, labels)\n",
        "        loss.backward()\n",
        "        optimizer.step()\n",
        "\n",
        "        running_loss += loss.item()\n",
        "\n",
        "    epoch_loss = running_loss / len(train_loader_1)\n",
        "    print(f\"Epoch [{epoch + 1}/{num_epochs}] Loss: {epoch_loss:.4f}\")"
      ],
      "metadata": {
        "colab": {
          "base_uri": "https://localhost:8080/"
        },
        "id": "PK4aLPrEQV0q",
        "outputId": "cfe58487-5a78-435d-a4d8-4494c596ef02"
      },
      "execution_count": 80,
      "outputs": [
        {
          "output_type": "stream",
          "name": "stdout",
          "text": [
            "Epoch [1/10] Loss: 0.1905\n",
            "Epoch [2/10] Loss: 0.0882\n",
            "Epoch [3/10] Loss: 0.0444\n",
            "Epoch [4/10] Loss: 0.0937\n",
            "Epoch [5/10] Loss: 0.0941\n",
            "Epoch [6/10] Loss: 0.2943\n",
            "Epoch [7/10] Loss: 0.1345\n",
            "Epoch [8/10] Loss: 0.0913\n",
            "Epoch [9/10] Loss: 0.0715\n",
            "Epoch [10/10] Loss: 0.0461\n"
          ]
        }
      ]
    },
    {
      "cell_type": "code",
      "source": [
        "correct_predictions = 0\n",
        "total_samples = 0\n",
        "\n",
        "with torch.no_grad():\n",
        "    for images, labels in test_loader_1:\n",
        "        images, labels = images.to(device), labels.to(device)\n",
        "        outputs = model1(images)\n",
        "        _, predicted = torch.max(outputs, 1)\n",
        "        total_samples += labels.size(0)\n",
        "        correct_predictions += (predicted == labels).sum().item()\n",
        "\n",
        "accuracy = 100 * correct_predictions / total_samples\n",
        "print(f'Accuracy : {accuracy:.2f}%')"
      ],
      "metadata": {
        "colab": {
          "base_uri": "https://localhost:8080/"
        },
        "id": "gtP0fo1tSIyx",
        "outputId": "29598f8e-6ef8-46e3-ffd8-e945593b7ebc"
      },
      "execution_count": 91,
      "outputs": [
        {
          "output_type": "stream",
          "name": "stdout",
          "text": [
            "Accuracy : 99.41%\n"
          ]
        }
      ]
    },
    {
      "cell_type": "code",
      "source": [
        "model2 = ResNet50(hidden_units=128, out_size=2).to(device)"
      ],
      "metadata": {
        "id": "n3fwZGkJS0-m"
      },
      "execution_count": 103,
      "outputs": []
    },
    {
      "cell_type": "code",
      "source": [
        "criterion = nn.CrossEntropyLoss()\n",
        "optimizer = optim.Adam(model2.parameters(), lr=0.001)\n",
        "num_epochs = 25"
      ],
      "metadata": {
        "id": "kPXBoEXMTIHi"
      },
      "execution_count": 104,
      "outputs": []
    },
    {
      "cell_type": "code",
      "source": [
        "model1.eval()\n",
        "kl_criterion = nn.KLDivLoss(reduction='batchmean').to(device)\n",
        "ce_criterion = nn.CrossEntropyLoss().to(device)\n",
        "alpha = 0.5\n",
        "\n",
        "for epoch in range(num_epochs):\n",
        "    model2.train()\n",
        "\n",
        "    running_loss = 0.0\n",
        "\n",
        "    for inputs, labels in train_loader_2:\n",
        "        inputs, labels = inputs.to(device), labels.to(device)\n",
        "        labels = labels % 2\n",
        "        optimizer.zero_grad()\n",
        "        with torch.no_grad():\n",
        "            teacher_outputs = model1(inputs)\n",
        "\n",
        "        outputs = model2(inputs)\n",
        "\n",
        "        kl_loss = kl_criterion(torch.log_softmax(outputs, dim=1), torch.softmax(teacher_outputs, dim=1))\n",
        "        ce_loss = ce_criterion(outputs, labels)\n",
        "        loss = alpha * ce_loss + (1-alpha) * kl_loss\n",
        "        loss.backward()\n",
        "        optimizer.step()\n",
        "\n",
        "        running_loss += loss.item()\n",
        "\n",
        "    epoch_loss = running_loss / len(train_loader_2)\n",
        "    print(f\"Epoch [{epoch + 1}/{num_epochs}] Loss: {epoch_loss:.4f}\")"
      ],
      "metadata": {
        "colab": {
          "base_uri": "https://localhost:8080/"
        },
        "id": "ms_67wwjTNvh",
        "outputId": "f580e4a9-af47-4821-c415-04a0504148b2"
      },
      "execution_count": 108,
      "outputs": [
        {
          "output_type": "stream",
          "name": "stdout",
          "text": [
            "Epoch [1/15] Loss: 0.3544\n",
            "Epoch [2/15] Loss: 0.3365\n",
            "Epoch [3/15] Loss: 0.3252\n",
            "Epoch [4/15] Loss: 0.3124\n",
            "Epoch [5/15] Loss: 0.3002\n",
            "Epoch [6/15] Loss: 0.2947\n",
            "Epoch [7/15] Loss: 0.2917\n",
            "Epoch [8/15] Loss: 0.2793\n",
            "Epoch [9/15] Loss: 0.2763\n",
            "Epoch [10/15] Loss: 0.2775\n",
            "Epoch [11/15] Loss: 0.2687\n",
            "Epoch [12/15] Loss: 0.2727\n",
            "Epoch [13/15] Loss: 0.2742\n",
            "Epoch [14/15] Loss: 0.2639\n",
            "Epoch [15/15] Loss: 0.2642\n"
          ]
        }
      ]
    },
    {
      "cell_type": "code",
      "source": [
        "correct_predictions = 0\n",
        "total_samples = 0\n",
        "\n",
        "with torch.no_grad():\n",
        "    for images, labels in test_loader_2:\n",
        "        images, labels = images.cuda(), labels.cuda()\n",
        "        outputs = model2(images)\n",
        "        _, predicted = torch.max(outputs, 1)\n",
        "        total_samples += labels.size(0)\n",
        "        correct_predictions += (predicted == labels % 2).sum().item()\n",
        "\n",
        "accuracy = 100 * correct_predictions / total_samples\n",
        "print(f'Accuracy : {accuracy:.2f}%')"
      ],
      "metadata": {
        "colab": {
          "base_uri": "https://localhost:8080/"
        },
        "id": "U9IYgsBaTR3n",
        "outputId": "b42825d0-2ae6-424f-d023-042badba4c1a"
      },
      "execution_count": 109,
      "outputs": [
        {
          "output_type": "stream",
          "name": "stdout",
          "text": [
            "Accuracy : 93.70%\n"
          ]
        }
      ]
    },
    {
      "cell_type": "code",
      "source": [
        "correct_predictions = 0\n",
        "total_samples = 0\n",
        "\n",
        "with torch.no_grad():\n",
        "    for images, labels in test_loader_1:\n",
        "        images, labels = images.cuda(), labels.cuda()\n",
        "        outputs = model2(images)\n",
        "        _, predicted = torch.max(outputs, 1)\n",
        "        total_samples += labels.size(0)\n",
        "        correct_predictions += (predicted == labels).sum().item()\n",
        "\n",
        "accuracy = 100 * correct_predictions / total_samples\n",
        "print(f'Accuracy : {accuracy:.2f}%')"
      ],
      "metadata": {
        "colab": {
          "base_uri": "https://localhost:8080/"
        },
        "id": "6FPn4UUtTUCP",
        "outputId": "bb6a0c5e-4160-4ad3-b40b-700088349709"
      },
      "execution_count": 110,
      "outputs": [
        {
          "output_type": "stream",
          "name": "stdout",
          "text": [
            "Accuracy : 85.42%\n"
          ]
        }
      ]
    },
    {
      "cell_type": "code",
      "source": [],
      "metadata": {
        "id": "sT7IbKUtbV2K"
      },
      "execution_count": 16,
      "outputs": []
    }
  ]
}