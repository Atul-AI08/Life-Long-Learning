{
  "nbformat": 4,
  "nbformat_minor": 0,
  "metadata": {
    "colab": {
      "provenance": []
    },
    "kernelspec": {
      "name": "python3",
      "display_name": "Python 3"
    },
    "language_info": {
      "name": "python"
    }
  },
  "cells": [
    {
      "cell_type": "code",
      "execution_count": null,
      "metadata": {
        "id": "3Ywn-1jGkQMs"
      },
      "outputs": [],
      "source": [
        "import torch\n",
        "import torch.nn as nn\n",
        "import torch.optim as optim\n",
        "import torch.nn.functional as F\n",
        "from torch.utils.data import DataLoader\n",
        "import torchvision.datasets as datasets\n",
        "import torchvision.transforms as transforms"
      ]
    },
    {
      "cell_type": "code",
      "source": [
        "import torchvision\n",
        "from torch.utils.data import DataLoader\n",
        "import torchvision.datasets as datasets\n",
        "import torchvision.transforms as transforms"
      ],
      "metadata": {
        "id": "eFhf-MOoki7R"
      },
      "execution_count": null,
      "outputs": []
    },
    {
      "cell_type": "code",
      "source": [
        "batch_size = 64\n",
        "train_dataset = datasets.MNIST(\n",
        "    root=\"dataset/\",\n",
        "    train=True,\n",
        "    transform=transforms.ToTensor(),\n",
        "    download=True,\n",
        ")\n",
        "\n",
        "test_dataset = datasets.MNIST(\n",
        "    root=\"dataset/\",\n",
        "    train=False,\n",
        "    transform=transforms.ToTensor(),\n",
        "    download=True,\n",
        ")"
      ],
      "metadata": {
        "id": "K8XE1HLRkm3u"
      },
      "execution_count": null,
      "outputs": []
    },
    {
      "cell_type": "code",
      "source": [
        "batch_size = 64\n",
        "\n",
        "train_indices = train_dataset.targets.clone().detach() == 0\n",
        "train_indices |= train_dataset.targets.clone().detach() == 1\n",
        "train_dataset_01 = torch.utils.data.Subset(train_dataset, torch.where(train_indices)[0])\n",
        "\n",
        "train_loader_01 = DataLoader(dataset=train_dataset_01, batch_size=batch_size, shuffle=True)\n",
        "\n",
        "test_indices = test_dataset.targets.clone().detach() == 0\n",
        "test_indices |= test_dataset.targets.clone().detach() == 1\n",
        "test_dataset_01 = torch.utils.data.Subset(test_dataset, torch.where(test_indices)[0])\n",
        "\n",
        "test_loader_01 = DataLoader(dataset=test_dataset_01, batch_size=batch_size, shuffle=True)\n"
      ],
      "metadata": {
        "id": "GmbvdCXtlnVL"
      },
      "execution_count": null,
      "outputs": []
    },
    {
      "cell_type": "code",
      "source": [
        "class NN(nn.Module):\n",
        "    def __init__(self, input_size, num_classes):\n",
        "        super(NN, self).__init__()\n",
        "        self.fc1 = nn.Linear(input_size, 400)\n",
        "        self.fc2 = nn.Linear(400, 400)\n",
        "        self.fc3 = nn.Linear(400, num_classes)\n",
        "\n",
        "    def forward(self, x):\n",
        "        x = F.relu(self.fc1(x))\n",
        "        x = F.relu(self.fc2(x))\n",
        "        x = self.fc3(x)\n",
        "        return x"
      ],
      "metadata": {
        "id": "ZvKOHxqnkqBM"
      },
      "execution_count": null,
      "outputs": []
    },
    {
      "cell_type": "code",
      "source": [
        "device = torch.device(\"cuda\" if torch.cuda.is_available() else \"cpu\")\n",
        "input_size = 784\n",
        "num_classes = 2\n",
        "learning_rate = 0.001\n",
        "num_epochs = 3"
      ],
      "metadata": {
        "id": "m4wqa9fbktZj"
      },
      "execution_count": null,
      "outputs": []
    },
    {
      "cell_type": "code",
      "source": [
        "model = NN(input_size=input_size, num_classes=num_classes).to(device)\n",
        "criterion = nn.CrossEntropyLoss()\n",
        "optimizer = optim.Adam(model.parameters(), lr=learning_rate)"
      ],
      "metadata": {
        "id": "X3GgcqaUkwNi"
      },
      "execution_count": null,
      "outputs": []
    },
    {
      "cell_type": "code",
      "source": [
        "for epoch in range(num_epochs):\n",
        "    print(f\"Epoch: {epoch}\")\n",
        "    for batch_idx, (data, targets) in enumerate(train_loader_01):\n",
        "        data = data.to(device=device)\n",
        "        targets = targets.to(device=device)\n",
        "\n",
        "        data = data.reshape(data.shape[0], -1)\n",
        "\n",
        "        scores = model(data)\n",
        "        loss = criterion(scores, targets)\n",
        "\n",
        "        optimizer.zero_grad()\n",
        "        loss.backward()\n",
        "\n",
        "        optimizer.step()"
      ],
      "metadata": {
        "colab": {
          "base_uri": "https://localhost:8080/"
        },
        "id": "UYonEE_Oky8X",
        "outputId": "8b231904-2d12-4b2b-977e-30814b5b3038"
      },
      "execution_count": null,
      "outputs": [
        {
          "output_type": "stream",
          "name": "stdout",
          "text": [
            "Epoch: 0\n",
            "Epoch: 1\n",
            "Epoch: 2\n"
          ]
        }
      ]
    },
    {
      "cell_type": "code",
      "source": [
        "def check_accuracy(loader, model):\n",
        "    num_correct = 0\n",
        "    num_samples = 0\n",
        "    model.eval()\n",
        "\n",
        "    with torch.no_grad():\n",
        "        for x, y in loader:\n",
        "            x = x.to(device=device)\n",
        "            y = y.to(device=device)\n",
        "            x = x.reshape(x.shape[0], -1)\n",
        "\n",
        "            scores = model(x)\n",
        "            _, predictions = scores.max(1)\n",
        "            num_correct += (predictions == y).sum().item()\n",
        "            num_samples += predictions.size(0)\n",
        "\n",
        "        print(\n",
        "            f\"Got {num_correct} / {num_samples} with accuracy\"\n",
        "            f\" {float(num_correct) / float(num_samples) * 100:.2f}\"\n",
        "        )\n",
        "\n",
        "    model.train()\n",
        "\n",
        "\n",
        "check_accuracy(train_loader_01, model)\n",
        "check_accuracy(test_loader_01, model)"
      ],
      "metadata": {
        "colab": {
          "base_uri": "https://localhost:8080/"
        },
        "id": "9vIJDCPdk1Wc",
        "outputId": "679c144c-60c8-4a51-9873-227965f9eb8f"
      },
      "execution_count": null,
      "outputs": [
        {
          "output_type": "stream",
          "name": "stdout",
          "text": [
            "Got 12662 / 12665 with accuracy 99.98\n",
            "Got 2113 / 2115 with accuracy 99.91\n"
          ]
        }
      ]
    },
    {
      "cell_type": "code",
      "source": [
        "import copy\n",
        "num_classes = 4\n",
        "\n",
        "model2 = copy.deepcopy(model)\n",
        "model2.fc3 = nn.Linear(400, num_classes).to(device)"
      ],
      "metadata": {
        "id": "5E18hvzLndxY"
      },
      "execution_count": null,
      "outputs": []
    },
    {
      "cell_type": "code",
      "source": [
        "batch_size = 64\n",
        "\n",
        "train_indices = train_dataset.targets.clone().detach() == 0\n",
        "train_indices |= train_dataset.targets.clone().detach() == 1\n",
        "train_indices |= train_dataset.targets.clone().detach() == 2\n",
        "train_indices |= train_dataset.targets.clone().detach() == 3\n",
        "train_dataset_02 = torch.utils.data.Subset(train_dataset, torch.where(train_indices)[0])\n",
        "\n",
        "train_loader_02 = DataLoader(dataset=train_dataset_02, batch_size=batch_size, shuffle=True)\n",
        "\n",
        "test_indices = test_dataset.targets.clone().detach() == 0\n",
        "test_indices |= test_dataset.targets.clone().detach() == 1\n",
        "test_indices |= test_dataset.targets.clone().detach() == 2\n",
        "test_indices |= test_dataset.targets.clone().detach() == 3\n",
        "test_dataset_02 = torch.utils.data.Subset(test_dataset, torch.where(test_indices)[0])\n",
        "\n",
        "test_loader_02 = DataLoader(dataset=test_dataset_02, batch_size=batch_size, shuffle=True)\n"
      ],
      "metadata": {
        "id": "60iP2R6CoA2N"
      },
      "execution_count": null,
      "outputs": []
    },
    {
      "cell_type": "code",
      "source": [
        "device = torch.device(\"cuda\" if torch.cuda.is_available() else \"cpu\")\n",
        "input_size = 784\n",
        "num_classes = 4\n",
        "learning_rate = 0.01\n",
        "num_epochs = 2"
      ],
      "metadata": {
        "id": "ePVRRg3d4Efz"
      },
      "execution_count": null,
      "outputs": []
    },
    {
      "cell_type": "code",
      "source": [
        "optimizer = optim.Adam(model2.parameters(), lr=learning_rate)\n",
        "criterion = nn.CrossEntropyLoss()\n",
        "model2.fc1.weight.requires_grad = False\n",
        "model2.fc1.bias.requires_grad = False\n",
        "\n",
        "model2.fc2.weight.requires_grad = False\n",
        "model2.fc2.bias.requires_grad = False\n",
        "\n",
        "model2.fc3.weight.requires_grad = True\n",
        "model2.fc3.bias.requires_grad = True"
      ],
      "metadata": {
        "id": "WJpWv6NZqvvq"
      },
      "execution_count": null,
      "outputs": []
    },
    {
      "cell_type": "code",
      "source": [
        "# Training loop for transfer learning\n",
        "for epoch in range(num_epochs):\n",
        "    print(f\"Epoch: {epoch}\")\n",
        "    for batch_idx, (data, targets) in enumerate(train_loader_02):\n",
        "        data = data.to(device=device)\n",
        "        targets = targets.to(device=device)\n",
        "\n",
        "        data = data.reshape(data.shape[0], -1)\n",
        "\n",
        "        scores = model2(data)\n",
        "\n",
        "        loss = criterion(scores, targets)\n",
        "\n",
        "        optimizer.zero_grad()\n",
        "        loss.backward()\n",
        "\n",
        "        optimizer.step()\n"
      ],
      "metadata": {
        "colab": {
          "base_uri": "https://localhost:8080/"
        },
        "id": "3JmGgadAopb8",
        "outputId": "1091ad5f-630e-43b3-becf-eb485165fcba"
      },
      "execution_count": null,
      "outputs": [
        {
          "output_type": "stream",
          "name": "stdout",
          "text": [
            "Epoch: 0\n",
            "Epoch: 1\n"
          ]
        }
      ]
    },
    {
      "cell_type": "code",
      "source": [
        "check_accuracy(train_loader_02, model2)\n",
        "check_accuracy(test_loader_02, model2)"
      ],
      "metadata": {
        "colab": {
          "base_uri": "https://localhost:8080/"
        },
        "id": "WgyLWqHNpFrq",
        "outputId": "f56f2200-58d6-4c42-d830-e39f5ee547ce"
      },
      "execution_count": null,
      "outputs": [
        {
          "output_type": "stream",
          "name": "stdout",
          "text": [
            "Got 23216 / 24754 with accuracy 93.79\n",
            "Got 3923 / 4157 with accuracy 94.37\n"
          ]
        }
      ]
    },
    {
      "cell_type": "code",
      "source": [
        "are_parameters_equal = torch.allclose(model.fc1.weight, model2.fc1.weight) and torch.allclose(model.fc1.bias, model2.fc1.bias)\n",
        "are_parameters_equal |= torch.allclose(model.fc2.weight, model2.fc2.weight) and torch.allclose(model.fc2.bias, model2.fc2.bias)\n",
        "\n",
        "if are_parameters_equal:\n",
        "    print(\"Parameters of fc1 and fc2 are equal.\")\n",
        "else:\n",
        "    print(\"Parameters of fc1 and fc2 are not equal.\")"
      ],
      "metadata": {
        "colab": {
          "base_uri": "https://localhost:8080/"
        },
        "id": "VPby4YuHsOz2",
        "outputId": "92186edb-a70d-48ea-dc20-6d38839249e7"
      },
      "execution_count": null,
      "outputs": [
        {
          "output_type": "stream",
          "name": "stdout",
          "text": [
            "Parameters of fc1 and fc2 are equal.\n"
          ]
        }
      ]
    },
    {
      "cell_type": "code",
      "source": [],
      "metadata": {
        "id": "n5TZJStgGz0N"
      },
      "execution_count": null,
      "outputs": []
    }
  ]
}