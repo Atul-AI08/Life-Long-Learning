{
  "nbformat": 4,
  "nbformat_minor": 0,
  "metadata": {
    "colab": {
      "provenance": []
    },
    "kernelspec": {
      "name": "python3",
      "display_name": "Python 3"
    },
    "language_info": {
      "name": "python"
    }
  },
  "cells": [
    {
      "cell_type": "code",
      "execution_count": null,
      "metadata": {
        "id": "vTVT079hddoK"
      },
      "outputs": [],
      "source": [
        "import torch\n",
        "import torch.nn as nn\n",
        "import torch.optim as optim\n",
        "import torch.nn.functional as F\n",
        "from torch.utils.data import DataLoader\n",
        "import torchvision.datasets as datasets\n",
        "import torchvision.transforms as transforms"
      ]
    },
    {
      "cell_type": "code",
      "source": [
        "import torchvision\n",
        "from torch.utils.data import DataLoader\n",
        "import torchvision.datasets as datasets\n",
        "import torchvision.transforms as transforms"
      ],
      "metadata": {
        "id": "NMbnYqdYdn-3"
      },
      "execution_count": null,
      "outputs": []
    },
    {
      "cell_type": "code",
      "source": [
        "batch_size = 64\n",
        "train_dataset = datasets.MNIST(\n",
        "    root=\"dataset/\",\n",
        "    train=True,\n",
        "    transform=transforms.ToTensor(),\n",
        "    download=True,\n",
        ")\n",
        "\n",
        "test_dataset = datasets.MNIST(\n",
        "    root=\"dataset/\",\n",
        "    train=False,\n",
        "    transform=transforms.ToTensor(),\n",
        "    download=True,\n",
        ")"
      ],
      "metadata": {
        "id": "0_Ux2kQgdpym"
      },
      "execution_count": null,
      "outputs": []
    },
    {
      "cell_type": "code",
      "source": [
        "batch_size = 64\n",
        "\n",
        "train_indices = train_dataset.targets.clone().detach() == 0\n",
        "train_indices |= train_dataset.targets.clone().detach() == 1\n",
        "train_dataset_01 = torch.utils.data.Subset(train_dataset, torch.where(train_indices)[0])\n",
        "\n",
        "train_loader_01 = DataLoader(dataset=train_dataset_01, batch_size=batch_size, shuffle=True)\n",
        "\n",
        "test_indices = test_dataset.targets.clone().detach() == 0\n",
        "test_indices |= test_dataset.targets.clone().detach() == 1\n",
        "test_dataset_01 = torch.utils.data.Subset(test_dataset, torch.where(test_indices)[0])\n",
        "\n",
        "test_loader_01 = DataLoader(dataset=test_dataset_01, batch_size=batch_size, shuffle=True)\n"
      ],
      "metadata": {
        "id": "pYnY9mAqdrrC"
      },
      "execution_count": null,
      "outputs": []
    },
    {
      "cell_type": "code",
      "source": [
        "class NN(nn.Module):\n",
        "    def __init__(self, input_size, num_classes):\n",
        "        super(NN, self).__init__()\n",
        "        self.fc1 = nn.Linear(input_size, 400)\n",
        "        self.fc2 = nn.Linear(400, 400)\n",
        "        self.fc3 = nn.Linear(400, num_classes)\n",
        "\n",
        "    def forward(self, x):\n",
        "        x = F.relu(self.fc1(x))\n",
        "        x = F.relu(self.fc2(x))\n",
        "        x = self.fc3(x)\n",
        "        return x"
      ],
      "metadata": {
        "id": "D3paoSQVdtWL"
      },
      "execution_count": null,
      "outputs": []
    },
    {
      "cell_type": "code",
      "source": [
        "device = torch.device(\"cuda\" if torch.cuda.is_available() else \"cpu\")\n",
        "input_size = 784\n",
        "num_classes = 2\n",
        "learning_rate = 0.001\n",
        "num_epochs = 3"
      ],
      "metadata": {
        "id": "uVh8OQJfduzh"
      },
      "execution_count": null,
      "outputs": []
    },
    {
      "cell_type": "code",
      "source": [
        "model = NN(input_size=input_size, num_classes=num_classes).to(device)\n",
        "criterion = nn.CrossEntropyLoss()\n",
        "optimizer = optim.Adam(model.parameters(), lr=learning_rate)"
      ],
      "metadata": {
        "id": "piYGys_tdwWL"
      },
      "execution_count": null,
      "outputs": []
    },
    {
      "cell_type": "code",
      "source": [
        "for epoch in range(num_epochs):\n",
        "    print(f\"Epoch: {epoch}\")\n",
        "    for batch_idx, (data, targets) in enumerate(train_loader_01):\n",
        "        data = data.to(device=device)\n",
        "        targets = targets.to(device=device)\n",
        "\n",
        "        data = data.reshape(data.shape[0], -1)\n",
        "\n",
        "        scores = model(data)\n",
        "        loss = criterion(scores, targets)\n",
        "\n",
        "        optimizer.zero_grad()\n",
        "        loss.backward()\n",
        "\n",
        "        optimizer.step()"
      ],
      "metadata": {
        "colab": {
          "base_uri": "https://localhost:8080/"
        },
        "id": "_M9XDgP0dyFX",
        "outputId": "371ea34d-7680-485a-8434-c0f54f81f434"
      },
      "execution_count": null,
      "outputs": [
        {
          "output_type": "stream",
          "name": "stdout",
          "text": [
            "Epoch: 0\n",
            "Epoch: 1\n",
            "Epoch: 2\n"
          ]
        }
      ]
    },
    {
      "cell_type": "code",
      "source": [
        "def check_accuracy(loader, model):\n",
        "    num_correct = 0\n",
        "    num_samples = 0\n",
        "    model.eval()\n",
        "\n",
        "    with torch.no_grad():\n",
        "        for x, y in loader:\n",
        "            x = x.to(device=device)\n",
        "            y = y.to(device=device)\n",
        "            x = x.reshape(x.shape[0], -1)\n",
        "\n",
        "            scores = model(x)\n",
        "            _, predictions = scores.max(1)\n",
        "            num_correct += (predictions == y%2).sum().item()\n",
        "            num_samples += predictions.size(0)\n",
        "\n",
        "        print(\n",
        "            f\"Got {num_correct} / {num_samples} with accuracy\"\n",
        "            f\" {float(num_correct) / float(num_samples) * 100:.2f}\"\n",
        "        )\n",
        "\n",
        "    model.train()\n",
        "\n",
        "\n",
        "check_accuracy(train_loader_01, model)\n",
        "check_accuracy(test_loader_01, model)"
      ],
      "metadata": {
        "colab": {
          "base_uri": "https://localhost:8080/"
        },
        "id": "MWgdonrqdzty",
        "outputId": "b475fffd-cd23-4ea6-840c-d862e06384c8"
      },
      "execution_count": null,
      "outputs": [
        {
          "output_type": "stream",
          "name": "stdout",
          "text": [
            "Got 12662 / 12665 with accuracy 99.98\n",
            "Got 2114 / 2115 with accuracy 99.95\n"
          ]
        }
      ]
    },
    {
      "cell_type": "code",
      "source": [
        "batch_size = 64\n",
        "\n",
        "train_indices = train_dataset.targets.clone().detach() == 2\n",
        "train_indices |= train_dataset.targets.clone().detach() == 3\n",
        "train_dataset_02 = torch.utils.data.Subset(train_dataset, torch.where(train_indices)[0])\n",
        "\n",
        "train_loader_02 = DataLoader(dataset=train_dataset_02, batch_size=batch_size, shuffle=True)\n",
        "\n",
        "test_indices = test_dataset.targets.clone().detach() == 2\n",
        "test_indices |= test_dataset.targets.clone().detach() == 3\n",
        "test_dataset_02 = torch.utils.data.Subset(test_dataset, torch.where(test_indices)[0])\n",
        "\n",
        "test_loader_02 = DataLoader(dataset=test_dataset_02, batch_size=batch_size, shuffle=True)\n"
      ],
      "metadata": {
        "id": "pADjO80wd5vd"
      },
      "execution_count": null,
      "outputs": []
    },
    {
      "cell_type": "code",
      "source": [
        "cross_entropy = nn.CrossEntropyLoss()\n",
        "temperature = 1.0"
      ],
      "metadata": {
        "id": "HzDzuDZjhXmv"
      },
      "execution_count": null,
      "outputs": []
    },
    {
      "cell_type": "code",
      "source": [
        "def combined_loss(outputs, targets, logits, alpha):\n",
        "    ce_loss = cross_entropy(outputs, targets)\n",
        "    soft_targets = nn.functional.softmax(logits / temperature, dim=1)\n",
        "    distillation_loss = nn.functional.kl_div(nn.functional.log_softmax(outputs / temperature, dim=1),soft_targets, reduction='batchmean') * (temperature ** 2)\n",
        "\n",
        "    combined_loss = alpha * distillation_loss + (1 - alpha) * ce_loss\n",
        "\n",
        "    return combined_loss"
      ],
      "metadata": {
        "id": "bbFbd-N7hTDh"
      },
      "execution_count": null,
      "outputs": []
    },
    {
      "cell_type": "code",
      "source": [
        "device = torch.device(\"cuda\" if torch.cuda.is_available() else \"cpu\")\n",
        "input_size = 784\n",
        "num_classes = 2\n",
        "learning_rate = 0.01\n",
        "num_epochs = 3"
      ],
      "metadata": {
        "id": "KITBbNFI6gws"
      },
      "execution_count": null,
      "outputs": []
    },
    {
      "cell_type": "code",
      "source": [
        "model2 = NN(input_size=input_size, num_classes=num_classes).to(device)\n",
        "optimizer = optim.Adam(model2.parameters(), lr=learning_rate)"
      ],
      "metadata": {
        "id": "7wUh8M3Vec3-"
      },
      "execution_count": null,
      "outputs": []
    },
    {
      "cell_type": "code",
      "source": [
        "for epoch in range(num_epochs):\n",
        "    print(f\"Epoch: {epoch}\")\n",
        "    for batch_idx, (data, targets) in enumerate(train_loader_02):\n",
        "        data = data.to(device=device)\n",
        "        targets = targets.to(device=device)\n",
        "        targets = targets%2\n",
        "        data = data.reshape(data.shape[0], -1)\n",
        "        with torch.no_grad():\n",
        "            logits = model(data)\n",
        "        scores = model2(data)\n",
        "        loss = combined_loss(scores, targets, logits, 0.47)\n",
        "\n",
        "        optimizer.zero_grad()\n",
        "        loss.backward()\n",
        "\n",
        "        optimizer.step()"
      ],
      "metadata": {
        "colab": {
          "base_uri": "https://localhost:8080/"
        },
        "id": "cbQoX4_GguNX",
        "outputId": "96df4db9-0f47-49e6-93d2-3b913e486854"
      },
      "execution_count": null,
      "outputs": [
        {
          "output_type": "stream",
          "name": "stdout",
          "text": [
            "Epoch: 0\n",
            "Epoch: 1\n",
            "Epoch: 2\n"
          ]
        }
      ]
    },
    {
      "cell_type": "code",
      "source": [
        "check_accuracy(train_loader_01, model2)\n",
        "check_accuracy(test_loader_01, model2)"
      ],
      "metadata": {
        "colab": {
          "base_uri": "https://localhost:8080/"
        },
        "id": "1tktoZD2k3H5",
        "outputId": "4abfe2a1-6bf3-40a8-b8a7-b1eefa8742b6"
      },
      "execution_count": null,
      "outputs": [
        {
          "output_type": "stream",
          "name": "stdout",
          "text": [
            "Got 12451 / 12665 with accuracy 98.31\n",
            "Got 2095 / 2115 with accuracy 99.05\n"
          ]
        }
      ]
    },
    {
      "cell_type": "code",
      "source": [
        "check_accuracy(train_loader_02, model2)\n",
        "check_accuracy(test_loader_02, model2)"
      ],
      "metadata": {
        "colab": {
          "base_uri": "https://localhost:8080/"
        },
        "id": "0TInxlCDiU93",
        "outputId": "d781c260-43c4-4a6c-92eb-182a46b46811"
      },
      "execution_count": null,
      "outputs": [
        {
          "output_type": "stream",
          "name": "stdout",
          "text": [
            "Got 11780 / 12089 with accuracy 97.44\n",
            "Got 1993 / 2042 with accuracy 97.60\n"
          ]
        }
      ]
    },
    {
      "cell_type": "code",
      "source": [],
      "metadata": {
        "id": "WpHx2Gc_sOv3"
      },
      "execution_count": null,
      "outputs": []
    }
  ]
}